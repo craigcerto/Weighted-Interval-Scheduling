{
 "cells": [
  {
   "cell_type": "markdown",
   "metadata": {},
   "source": [
    "# Weighted Interval Scheduling\n",
    "### Goal: Maximize the total weight of non-overlapping intervals\n",
    "\n",
    "Each interval has a start time, end time, and a positive integer weight (start, end, weight)\n",
    "\n",
    "<i> Written by Craig Certo </i>\n"
   ]
  },
  {
   "cell_type": "code",
   "execution_count": 25,
   "metadata": {},
   "outputs": [
    {
     "data": {
      "text/plain": [
       "16"
      ]
     },
     "execution_count": 25,
     "metadata": {},
     "output_type": "execute_result"
    }
   ],
   "source": [
    "# Sample intervals\n",
    "intervals = [None, [0, 3, 4], [1, 5, 2], [4, 7, 6], [4, 5, 7], [6, 9, 5]]\n",
    "\n",
    "# O: Optimal max weight for each interval\n",
    "# P: Closest interval index that is not overlapping with respective interval\n",
    "O = [0]\n",
    "P = [0] \n",
    "\n",
    "# Sort original intervals by ending times\n",
    "def end_time(e):\n",
    "    if e is not None:\n",
    "        return e[1]\n",
    "    else:\n",
    "        return -1\n",
    "intervals.sort(key = end_time)\n",
    "\n",
    "# Fill O with None\n",
    "for x in range(0, len(intervals), 1):\n",
    "    O.append(None)\n",
    "\n",
    "# Calculate P(i) for every i in [1...n]\n",
    "for interval_num in range(1, len(intervals), 1):\n",
    "    start_time = intervals[interval_num][0]\n",
    "    end_time = intervals[interval_num][1]\n",
    "    p = 0\n",
    "    for i_num in range(1, interval_num, 1):\n",
    "        if intervals[i_num][1] < start_time:\n",
    "            p = i_num\n",
    "    P.append(p)\n",
    "\n",
    "# Dynamically add the max optimal solution for each interval for single calculation.\n",
    "# Starting from the top down, check whether including a respective interval will\n",
    "# be a part of the optimal solution and return the optimal solution.\n",
    "def Opt(j):\n",
    "    if O[j] is not None:\n",
    "        return O[j]\n",
    "    else:\n",
    "        O[j] = max(intervals[j][2] + Opt(P[j]), Opt(j-1))\n",
    "        return O[j]\n",
    "\n",
    "# Calculate optimal solution\n",
    "Opt(len(intervals) - 1)"
   ]
  }
 ],
 "metadata": {
  "kernelspec": {
   "display_name": "Python 3",
   "language": "python",
   "name": "python3"
  },
  "language_info": {
   "codemirror_mode": {
    "name": "ipython",
    "version": 3
   },
   "file_extension": ".py",
   "mimetype": "text/x-python",
   "name": "python",
   "nbconvert_exporter": "python",
   "pygments_lexer": "ipython3",
   "version": "3.8.5"
  }
 },
 "nbformat": 4,
 "nbformat_minor": 4
}
